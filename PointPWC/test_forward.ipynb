{
 "cells": [
  {
   "cell_type": "code",
   "execution_count": 5,
   "id": "c2679e0c",
   "metadata": {},
   "outputs": [],
   "source": [
    "import sys, os\n",
    "import numpy as np\n",
    "import open3d as o3d\n",
    "import os.path as osp\n",
    "import matplotlib.pyplot as plt\n",
    "from transforms.transforms import Identity\n",
    "from datasets.kitti_car_instances import KittiCarInstances\n",
    "from models import PointConvSceneFlowPWC8192selfglobalPointConv as PointConvSceneFlow\n",
    "\n",
    "import torch.utils.data as data\n",
    "\n",
    "data_process_args = {'DEPTH_THRESHOLD':0, 'NO_CORR':True}\n",
    "identity_transform = Identity(data_process_args=data_process_args, num_points=8192)\n",
    "dataset = KittiCarInstances(train=True, data_root='/external/datasets/two_frame_car/pcds/train', \n",
    "                            transform=identity_transform, num_points=8192, remove_ground=False)\n",
    "\n",
    "# pcd0 = o3d.geometry.PointCloud()\n",
    "# pcd0.points = o3d.utility.Vector3dVector(dataset[5][0])\n",
    "# o3d.visualization.draw_geometries([pcd0])\n",
    "\n",
    "# pcd1 = o3d.geometry.PointCloud()\n",
    "# pcd1.points = o3d.utility.Vector3dVector(dataset[5][2])\n",
    "# o3d.visualization.draw_geometries([pcd1])"
   ]
  },
  {
   "cell_type": "code",
   "execution_count": 11,
   "id": "36e64756",
   "metadata": {
    "scrolled": false
   },
   "outputs": [],
   "source": [
    "import torch\n",
    "model = PointConvSceneFlow().cuda()\n",
    "model.load_state_dict(torch.load('ckpts/PointConv_639_1.1546.pth'))\n",
    "\n",
    "model.train = False\n",
    "\n",
    "pc1, pc2, norm1, norm2, _, _ = dataset[0]\n",
    "pc1 = torch.as_tensor(pc1).unsqueeze(0).cuda().float()\n",
    "pc2 = torch.as_tensor(pc2).unsqueeze(0).cuda().float()\n",
    "norm1 = torch.as_tensor(norm1).unsqueeze(0).cuda().float()\n",
    "norm2 = torch.as_tensor(norm2).unsqueeze(0).cuda().float()\n",
    "\n",
    "pred_flows, _, _, pc1, pc2 = model(pc1, pc2, norm1, norm2)"
   ]
  },
  {
   "cell_type": "code",
   "execution_count": 12,
   "id": "7b169590",
   "metadata": {},
   "outputs": [
    {
     "data": {
      "text/plain": [
       "True"
      ]
     },
     "execution_count": 12,
     "metadata": {},
     "output_type": "execute_result"
    }
   ],
   "source": [
    "pts0 = pc1[0].cpu().numpy().squeeze().T\n",
    "flow0 = pred_flows[0].detach().cpu().numpy().squeeze().T\n",
    "pts0_warp = pts0 + flow0\n",
    "pcd0 = o3d.geometry.PointCloud()\n",
    "pcd0.points = o3d.utility.Vector3dVector(pts0)\n",
    "pcd1 = o3d.geometry.PointCloud()\n",
    "pcd1.points = o3d.utility.Vector3dVector(pts0_warp)\n",
    "\n",
    "o3d.io.write_point_cloud('out_pcds/pts0.pcd', pcd0, print_progress=True)\n",
    "o3d.io.write_point_cloud('out_pcds/pts0_warp.pcd', pcd1, print_progress=True)\n",
    "\n",
    "# o3d.visualization.draw_geometries([pcd0, pcd1])\n",
    "# o3d.visualization.draw_geometries([pcd0])\n",
    "# o3d.visualization.draw_geometries([pcd1])"
   ]
  }
 ],
 "metadata": {
  "kernelspec": {
   "display_name": "torch1.5",
   "language": "python",
   "name": "torch1.5"
  },
  "language_info": {
   "codemirror_mode": {
    "name": "ipython",
    "version": 3
   },
   "file_extension": ".py",
   "mimetype": "text/x-python",
   "name": "python",
   "nbconvert_exporter": "python",
   "pygments_lexer": "ipython3",
   "version": "3.8.10"
  }
 },
 "nbformat": 4,
 "nbformat_minor": 5
}
