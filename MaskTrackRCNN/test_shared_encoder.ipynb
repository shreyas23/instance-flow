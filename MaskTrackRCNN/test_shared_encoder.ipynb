{
 "cells": [
  {
   "cell_type": "code",
   "execution_count": 79,
   "id": "12f0f6a6",
   "metadata": {
    "scrolled": false
   },
   "outputs": [],
   "source": [
    "import torch\n",
    "import numpy as np\n",
    "from PIL import Image\n",
    "from pprint import pprint\n",
    "import matplotlib.pyplot as plt\n",
    "from mmdet.models.backbones import ResNet\n",
    "from mmdet.models.flow_heads import FlowHead\n",
    "from torchvision.transforms.functional import resize\n",
    "\n",
    "# test image\n",
    "img0 = Image.open('/external/datasets/kitti/2015/training/image_2/000000_10.png')\n",
    "img0 = np.asarray(resize(img0, (256, 832)))\n",
    "img0 = torch.from_numpy(img0).permute(2, 0, 1).unsqueeze(0).cuda() / 255. \n",
    "\n",
    "img1 = Image.open('/external/datasets/kitti/2015/training/image_2/000000_11.png')\n",
    "img1 = np.asarray(resize(img1, (256, 832)))\n",
    "img1 = torch.from_numpy(img1).permute(2, 0, 1).unsqueeze(0).cuda() / 255. "
   ]
  },
  {
   "cell_type": "code",
   "execution_count": 81,
   "id": "deeaa836",
   "metadata": {},
   "outputs": [
    {
     "name": "stdout",
     "output_type": "stream",
     "text": [
      "[torch.Size([1, 256, 64, 208]),\n",
      " torch.Size([1, 512, 32, 104]),\n",
      " torch.Size([1, 1024, 16, 52]),\n",
      " torch.Size([1, 2048, 8, 26])]\n"
     ]
    }
   ],
   "source": [
    "backbone = ResNet(depth=50).cuda()\n",
    "features0 = [f.contiguous() for f in backbone(img0)]\n",
    "features1 = [f.contiguous() for f in backbone(img1)]\n",
    "pprint([f.shape for f in features0])"
   ]
  },
  {
   "cell_type": "code",
   "execution_count": 58,
   "id": "8a0da2fd",
   "metadata": {},
   "outputs": [],
   "source": [
    "from spatial_correlation_sampler import SpatialCorrelationSampler\n",
    "corr = SpatialCorrelationSampler(kernel_size=1, patch_size=9, stride=1, padding=0, dilation=1, dilation_patch=1)\n",
    "corr0 = corr(features0[0], features1[0])"
   ]
  }
 ],
 "metadata": {
  "kernelspec": {
   "display_name": "vif",
   "language": "python",
   "name": "vif"
  },
  "language_info": {
   "codemirror_mode": {
    "name": "ipython",
    "version": 3
   },
   "file_extension": ".py",
   "mimetype": "text/x-python",
   "name": "python",
   "nbconvert_exporter": "python",
   "pygments_lexer": "ipython3",
   "version": "3.8.10"
  }
 },
 "nbformat": 4,
 "nbformat_minor": 5
}
